{
 "cells": [
  {
   "cell_type": "markdown",
   "metadata": {},
   "source": [
    "# Изучение спектров атомов водорода и дейтерия."
   ]
  },
  {
   "cell_type": "markdown",
   "metadata": {},
   "source": [
    "## Часть 1. Градуировка барабана монохроматора."
   ]
  },
  {
   "cell_type": "code",
   "execution_count": 26,
   "metadata": {},
   "outputs": [
    {
     "name": "stdout",
     "output_type": "stream",
     "text": [
      "a = 9.267909151972719e-09\n",
      "b = 0.019421458788071735\n",
      "c = 392.0338882332695\n"
     ]
    },
    {
     "data": {
      "image/png": "[encoded data removed]",
      "text/plain": [
       "<Figure size 504x504 with 1 Axes>"
      ]
     },
     "metadata": {},
     "output_type": "display_data"
    }
   ],
   "source": [
    "'''\n",
    "Далее привожу график зависимости длины волны (нм) от (%), \n",
    "где % - условное обозначение шкалы монохроматора. \n",
    "Значения определяю по известным спектралным линиям неона и ртути.\n",
    "'''\n",
    "\n",
    "#Проведение эксперимента:\n",
    "import matplotlib as mpl\n",
    "import pandas as pd\n",
    "import matplotlib.pyplot as plt\n",
    "from scipy.optimize import curve_fit\n",
    "from matplotlib import mlab\n",
    "from scipy import interpolate\n",
    "from math import* \n",
    "import warnings\n",
    "warnings.filterwarnings('ignore')\n",
    "\n",
    "def myFunction(x, a, b, c): \n",
    "     return a*x**3+b*x+c\n",
    "\n",
    "# Парсинг данных.\n",
    "data = pd.read_table('kalibr', sep = '\\s+' )\n",
    "mLambda = data['lambda']*0.1\n",
    "mPercent = data['deg']\n",
    "yErr = [3]*16\n",
    "\n",
    "# Мнк\n",
    "xlist = mlab.frange (600,3000, 0.005)\n",
    "result = curve_fit(f = myFunction, xdata= mPercent, ydata= mLambda, sigma = yErr,absolute_sigma = True )\n",
    "popt, pcov = result\n",
    "\n",
    "#Визуализация.\n",
    "plt.figure(figsize= (7,7)) \n",
    "plt.plot(xlist, myFunction(xlist, *popt), label='Полином 3 степени')\n",
    "plt.errorbar(mPercent,mLambda,yerr = yErr, fmt='.', label='Экспериментальные точки') \n",
    "plt.xlabel(\"% усл. ед.\")\n",
    "plt.ylabel(\"$\\lambda$ нм.\")\n",
    "plt.grid()\n",
    "plt.legend();\n",
    "a,b,c = popt\n",
    "print(\"a =\",a)\n",
    "print(\"b =\",b )\n",
    "print(\"c =\",c)\n",
    "\n"
   ]
  },
  {
   "cell_type": "markdown",
   "metadata": {},
   "source": [
    "# Часть 2. Изучение спектров атома водорода \n",
    "      "
   ]
  },
  {
   "cell_type": "markdown",
   "metadata": {},
   "source": [
    "По калибровочному графику определяю длины волн для серии Бальмера.\n",
    "\\begin{equation} \n",
    "H_{\\alpha} = 653 \\pm 4  (нм)\n",
    "\\end{equation}\n",
    "\\begin{equation} \n",
    "H_{\\beta} = 482 \\pm 4 (нм)\n",
    "\\end{equation}\n",
    "\\begin{equation} \n",
    "H_{\\gamma} = 430 \\pm 4 (нм)\n",
    "\\end{equation}\n",
    "\n",
    "Далее считаю постоянную Ридберга по каждому из значений.\n",
    "\\begin{equation}\n",
    "R_{\\alpha} = 11026011 \\pm 67541  (м^{-1})\n",
    "\\end{equation}\n",
    "\\begin{equation} \n",
    "R_{\\beta} = 11065006 \\pm 91825 (м^{-1})\n",
    "\\end{equation}\n",
    "\\begin{equation} \n",
    "R_{\\gamma} = 11074197 \\pm 103015 (м^{-1})\n",
    "\\end{equation}\n",
    "\n",
    "Посчитаю среднее значение:\n",
    "\\begin{equation}\n",
    "R_{экс} = 11055071 \\pm  87460 (м^{-1})\n",
    "\\end{equation}\n",
    "\\begin{equation}\n",
    "R_{табл} = 10973731 (м^{-1})\n",
    "\\end{equation}\n",
    "\n",
    "Видно, что в пределах погрешности экспериментальное значение сходится с табличным."
   ]
  },
  {
   "cell_type": "markdown",
   "metadata": {},
   "source": [
    "## Часть 3. Изучение молекулярного спектра йода."
   ]
  },
  {
   "cell_type": "markdown",
   "metadata": {},
   "source": [
    "По градуировочной шкале монохроматора определяю длины волн: самой длиноволновой из наблюдаемых \n",
    "линий поглощения, шестой от нее, и у начала сплошного спектра поглощения.\n",
    "\n",
    "\\begin{equation} \n",
    "\\lambda_1 = 619 \\pm 4  (нм)\n",
    "\\end{equation}\n",
    "\\begin{equation} \n",
    "\\lambda_2 = 600 \\pm 4 (нм)\n",
    "\\end{equation}\n",
    "\\begin{equation} \n",
    "\\lambda_3 = 461 \\pm 4 (нм)\n",
    "\\end{equation}\n",
    "\n",
    "Посчитаю соответствующие энергии:\n",
    "\n",
    "\\begin{equation} \n",
    "E_1 = 2.00 \\pm 0.01 (эВ)\n",
    "\\end{equation}\n",
    "\\begin{equation} \n",
    "E_2 = 2.06 \\pm 0.01 (эВ)\n",
    "\\end{equation}\n",
    "\\begin{equation} \n",
    "E_3 = 2.69 \\pm 0.02 (эВ)\n",
    "\\end{equation}"
   ]
  },
  {
   "cell_type": "markdown",
   "metadata": {},
   "source": [
    "Вычислим энергию колебательного кванта возбужденного состояния молекуды йода:\n",
    "\\begin{equation}\n",
    "h\\nu_2 = \\frac{1}{5}(E_2 - E_1)\n",
    "\\end{equation}\n",
    "\n",
    "\\begin{equation}\n",
    "h\\nu_2 = 0.012 \\pm 0.004\n",
    "\\end{equation}\n",
    "\n",
    "Также вычислим энергию электронного перехода $ℎ𝜈_{эл}=1,94±0,09 эВ$, энергию диссоциации молекулы в основном состоянии $Д_1=1,72±0,12 эВ$, энергию диссоциации молекулы в возбужденном состоянии $Д_2=0,71±0,07 эВ.$\n",
    "\n"
   ]
  },
  {
   "cell_type": "code",
   "execution_count": null,
   "metadata": {},
   "outputs": [],
   "source": []
  }
 ],
 "metadata": {
  "kernelspec": {
   "display_name": "Python 3",
   "language": "python",
   "name": "python3"
  },
  "language_info": {
   "codemirror_mode": {
    "name": "ipython",
    "version": 3
   },
   "file_extension": ".py",
   "mimetype": "text/x-python",
   "name": "python",
   "nbconvert_exporter": "python",
   "pygments_lexer": "ipython3",
   "version": "3.5.2"
  }
 },
 "nbformat": 4,
 "nbformat_minor": 2
}
