{
 "cells": [
  {
   "cell_type": "markdown",
   "metadata": {
    "hideCode": false,
    "hideOutput": true,
    "hidePrompt": false
   },
   "source": [
    "# Определение энергии $\\alpha$-частиц по величине их пробега в воздухе."
   ]
  },
  {
   "cell_type": "markdown",
   "metadata": {
    "hideCode": false,
    "hideOutput": false,
    "hidePrompt": false
   },
   "source": [
    "## Необходимые теоретические сведения.\n",
    "\n",
    "Целью данной работы не является подробное описание теоретических предпосылок.\n",
    "По ходу изложения будут приведены как хорошо известные формулы, так и относящиеся к более узкому классу задач. С их выводом читатель, при желании, может ознакомиться отдельно.\n",
    "\n",
    "\n"
   ]
  },
  {
   "cell_type": "markdown",
   "metadata": {
    "hideCode": false,
    "hideOutput": false,
    "hidePrompt": false
   },
   "source": [
    "## Определение пробега $\\alpha$-частиц с помощью сцинтилляционного счетчика.\n",
    "\n",
    "Установка состоит и цилиндрической камеры, на дне которой установлен препарат.\n",
    "Камера герметически закрыта стеклянной пластинкой, на которую с внутрнней стороны \n",
    "нанесен слой люминофора. С наружной стороны к стеклу прижат фотокатод фотоумножителя.\n",
    "Расстояние между препаратом и люминофором составляет 9 см. Определение пробега сводится к измерению зависимости скорости счета от давления в камере, потому как при атмосферном давлении \n",
    "альфа-частица не в состоянии преодолеть расстояние до фотокатода.\n",
    "\n",
    "Исследуемое вещество $ \\sideset{_{94}^{239}}{}{Pu}$\n",
    ".\n"
   ]
  },
  {
   "cell_type": "code",
   "execution_count": 1,
   "metadata": {
    "hideCode": false,
    "hidePrompt": false
   },
   "outputs": [
    {
     "name": "stdout",
     "output_type": "stream",
     "text": [
      "P среднего пробега 269.9\n",
      "k =  -1.91\n",
      "Pэ =  308.7\n"
     ]
    }
   ],
   "source": [
    "import matplotlib as mpl\n",
    "import pandas as pd\n",
    "import matplotlib.pyplot as plt\n",
    "from scipy.optimize import curve_fit\n",
    "from matplotlib import mlab\n",
    "from scipy import interpolate\n",
    "from math import* \n",
    "import warnings\n",
    "warnings.filterwarnings('ignore')\n",
    "\n",
    "def d_fun(x):\n",
    "    h = 1e-5\n",
    "    return (interpolate.splev(x+h, tck, der=0)-interpolate.splev(x-h, tck, der=0))/(2*h)\n",
    "\n",
    "# парсинг данных\n",
    "data = pd.read_table('scincill_counter', sep = '\\s+' )\n",
    "x = data['x']\n",
    "y = data['y']\n",
    "\n",
    "yErr = [sqrt(elem) for elem in y]\n",
    "xlist = mlab.frange(x[8],x[25],0.005)\n",
    "\n",
    "# приближение сплайном\n",
    "tck = interpolate.splrep(x[:26], y[:26], s=50, k = 3 )\n",
    "yder = interpolate.splev(xlist, tck, der=0)\n",
    "\n",
    "# вычисление точки с минимальной производной\n",
    "def d_fun(x):\n",
    "    h = 1e-5\n",
    "    return (interpolate.splev(x+h, tck, der=0)-interpolate.splev(x-h, tck, der=0))/(2*h)\n",
    "\n",
    "dxlist = mlab.frange(x[8],x[24],0.9)\n",
    "current_min = 10;\n",
    "current_elem = 0;\n",
    "for elem in dxlist:\n",
    "    tmp = d_fun(elem)\n",
    "    if(tmp < current_min):\n",
    "        current_min = tmp\n",
    "        current_elem = elem\n",
    "print(\"P среднего пробега\", current_elem)\n",
    "print(\"k = \", current_min.round(2))\n",
    "\n",
    "# вычисление касательной\n",
    "xp = 269.9\n",
    "k = -1.91\n",
    "yp = interpolate.splev(xp, tck, der=0)\n",
    "b = yp - k*xp\n",
    "def ptangent(x, k_= k, b_=b):\n",
    "    return(k_* x+b_)\n",
    "xlist_ = mlab.frange(x[9],x[23],0.005)\n",
    "ylist = []\n",
    "for elem in xlist_:\n",
    "    ylist.append(ptangent(elem))\n",
    "# вычисление P - экстраполяционного.\n",
    "print(\"Pэ = \",(-b/k).round(1))\n",
    "  \n",
    "    \n",
    "# визуализация   \n",
    "plt.figure(figsize= (7,7)) \n",
    "plt.errorbar(x,y,yerr = yErr, fmt='.', label='Экспериментальные точки')\n",
    "plt.plot(xlist,yder,label = \"Cubic Spline\")\n",
    "plt.plot(xlist_,ylist)\n",
    "plt.xlabel(\"Давление (Тор).\")\n",
    "plt.ylabel(\"Число отсчетов в единицу времени.\")\n",
    "plt.grid()\n",
    "plt.legend();\n"
   ]
  },
  {
   "cell_type": "markdown",
   "metadata": {
    "hideCode": false,
    "hidePrompt": false
   },
   "source": [
    "Строю график зависимости числа отсчетов в единицу времени от давления. В области предполагаемого минимума производной $\\frac{dN}{dP}$ приближаю зависимость сплайном и \n",
    "численно нахожу минимум. Так я получаю Pс $\\approx$ 270 Тор. Далее нахожу точку пересечения \n",
    "касательной в точке Pc с осью P, так нахожу P экстраполированное - Pэ $\\approx$ 309 Тор.\n",
    "\n",
    "Выражаю $\\rho$ из уравнения Менделеева - Клапейрона:\n",
    "\\begin{equation} \n",
    "\\rho = \\frac{MP}{RT}\n",
    "\\end{equation}\n",
    "\n",
    "Таким образом $\\rho$c $\\approx$ $4.3\\cdot10^{-4}$ г/см^3 , $\\rho$э $\\approx$ $4.9\\cdot10^{-4}$ г/см^3 , при T = 290 K.\n",
    "Оценю характерную длину пробега в см $\\alpha$-частиц с данной энергией при атмосферном давлении. $\\rho \\cdot x = const$, так, $R$ $\\approx$ 3.5 см.\n",
    "\n",
    "В рамках данной задачи связь энергии $\\alpha$-частицы с ее пробегом может быть вырожена формулой:\n",
    "\\begin{equation} \n",
    "R = 0.32\\cdot E^{3/2}\n",
    "\\end{equation}\n",
    "\n",
    "Оценим значение энергии $\\alpha$-частицы: E $\\approx$ 4.9 МэВ, табличное значение ~ 5 МэВ.\n"
   ]
  },
  {
   "cell_type": "markdown",
   "metadata": {},
   "source": [
    "## Исследование пробега $\\alpha$-частиц - счетчик Гейгера."
   ]
  },
  {
   "cell_type": "code",
   "execution_count": 34,
   "metadata": {},
   "outputs": [
    {
     "name": "stdout",
     "output_type": "stream",
     "text": [
      "Rcр 17.9\n",
      "k =  -7.39\n",
      "Rэ =  18.9\n"
     ]
    },
    {
     "data": {
      "image/png": "[encoded data removed]",
      "text/plain": [
       "<Figure size 504x504 with 1 Axes>"
      ]
     },
     "metadata": {},
     "output_type": "display_data"
    }
   ],
   "source": [
    "import matplotlib as mpl\n",
    "import pandas as pd\n",
    "import matplotlib.pyplot as plt\n",
    "from scipy.optimize import curve_fit\n",
    "from matplotlib import mlab\n",
    "from scipy import interpolate\n",
    "from math import* \n",
    "import warnings\n",
    "warnings.filterwarnings('ignore')\n",
    "from numpy import*\n",
    "\n",
    "def d_fun(x):\n",
    "    h = 1e-5\n",
    "    return (interpolate.splev(x+h, tck, der=0)-interpolate.splev(x-h, tck, der=0))/(2*h)\n",
    "\n",
    "# парсинг данных\n",
    "data = pd.read_table('geiger', sep = '\\s+' )\n",
    "x = data['x']\n",
    "y = data['y']\n",
    "yErr = data['yerr']\n",
    "\n",
    "xlist = mlab.frange(x[6],x[10],0.005)\n",
    "\n",
    "# приближение сплайном\n",
    "tck = interpolate.splrep(x[6:12], y[6:12], s=100, k = 5 )\n",
    "yder = interpolate.splev(xlist, tck, der=0)\n",
    "\n",
    "\n",
    "# вычисление точки с минимальной производной\n",
    "def d_fun(x):\n",
    "    h = 1e-5\n",
    "    return (interpolate.splev(x+h, tck, der=0)-interpolate.splev(x-h, tck, der=0))/(2*h)\n",
    "\n",
    "dxlist = mlab.frange(x[7],x[10],0.9)\n",
    "current_min = 10;\n",
    "current_elem = 0;\n",
    "for elem in dxlist:\n",
    "    tmp = d_fun(elem)\n",
    "    if(tmp < current_min):\n",
    "        current_min = tmp\n",
    "        current_elem = elem\n",
    "print(\"Rcр\", current_elem)\n",
    "print(\"k = \", current_min.round(2))\n",
    "\n",
    "\n",
    "# вычисление касательной\n",
    "xp = 17.9\n",
    "k = -7.39\n",
    "yp = interpolate.splev(xp, tck, der=0)\n",
    "b = yp - k*xp\n",
    "def ptangent(x, k_= k, b_=b):\n",
    "    return(k_* x+b_)\n",
    "xlist_ = mlab.frange(x[6]+0.35,x[9]+0.1,0.005)\n",
    "ylist = []\n",
    "for elem in xlist_:\n",
    "    ylist.append(ptangent(elem))\n",
    "# вычисление P - экстраполяционного.\n",
    "print(\"Rэ = \",(-b/k).round(1))\n",
    "\n",
    "     \n",
    "# визуализация   \n",
    "plt.figure(figsize= (7,7)) \n",
    "plt.errorbar(x,y,yerr = yErr, fmt='.', label='Экспериментальные точки')\n",
    "plt.plot(xlist_,ylist)\n",
    "plt.plot(xlist,yder,label = \"Cubic Spline\")\n",
    "plt.xlabel(\"Расстояние до счетчика  (мм).\")\n",
    "plt.ylabel(\"Число отсчетов в единицу времени.\")\n",
    "plt.grid()\n",
    "plt.legend();\n"
   ]
  },
  {
   "cell_type": "markdown",
   "metadata": {},
   "source": [
    "Как и в предыдущем пункте работы определяем Rср $\\approx$ 1.8 cм, Rэ $\\approx$ 2 см, E $\\approx$ 3.5 МэВ, табличное значение ~ 5 МэВ."
   ]
  },
  {
   "cell_type": "markdown",
   "metadata": {
    "hideCode": false,
    "hidePrompt": false
   },
   "source": [
    "## Определение пробега $\\alpha$-частиц с помощью ионизационной камеры.\n",
    "\n",
    "Камера представляет собой наполненный газом сосуд с двумя электродами, расстояние между которыми 10см. Заполняющий сосуд газ сам по себе не проводит электрический ток, возникает он только при прохождении быстрой $\\alpha$-частицы, которая рождает в газе на своем пути ионы.\n",
    "Если число проходящих через камеру $\\alpha$-частиц достаточно велико, то можно регистрировать величину возникающего тока при постоянном напряжении на электродах.\n",
    "В ходе работы была получена зависимость ионизационного тока от давления в камере.\n",
    "При некотором давлении Pэ все $\\alpha$-частицы останавливаются внутри газа и сила тока прекращает рост. Для получения значения Pэ часто пользуются методом экстраполяции.\n",
    "В данной работе мы поступим именно так.\n",
    "Исследуемое вещество $ \\sideset{_{94}^{239}}{}{Pu}$\n",
    "."
   ]
  },
  {
   "cell_type": "code",
   "execution_count": 35,
   "metadata": {
    "hideCode": false,
    "hidePrompt": false
   },
   "outputs": [
    {
     "name": "stdout",
     "output_type": "stream",
     "text": [
      "Pэ =  572.9\n"
     ]
    },
    {
     "data": {
      "image/png": "[encoded data removed]",
      "text/plain": [
       "<Figure size 504x504 with 1 Axes>"
      ]
     },
     "metadata": {},
     "output_type": "display_data"
    }
   ],
   "source": [
    "'''\n",
    "нулевое показание цифрового табло - 1 pA.\n",
    "показания при атмосферном давлениии -  985 pA.\n",
    "'''\n",
    "\n",
    "\n",
    "data = pd.read_table('ionization_chamber', sep = '\\s+' )\n",
    "x = data['x']\n",
    "y = data['y']\n",
    "yErr = [sqrt(elem) for elem in y]\n",
    "xlist1 = mlab.frange (x[15], x[55], 0.005)\n",
    "xlist2 = mlab.frange (x[36], x[len(x)-1], 0.005)\n",
    "\n",
    "# Вычитаю нулевое значение тока:\n",
    "for elem in y:\n",
    "    elem - 1\n",
    "    \n",
    "# провожу фитирование прямой двух участков гравика:\n",
    "def myFunction(x, a, b): \n",
    "    return a*x+b\n",
    "\n",
    "result1 = curve_fit(f = myFunction, xdata= x[20:38], ydata=y[20:38], sigma = yErr[20:38],absolute_sigma = True )\n",
    "popt1, pcov1 = result1\n",
    "k1 = popt1[0]\n",
    "b1 = popt1[1]\n",
    "\n",
    "result2 = curve_fit(f = myFunction, xdata= x[48:], ydata=y[48:], sigma = yErr[48:],absolute_sigma = True )\n",
    "popt2, pcov2 = result2\n",
    "k2 = popt2[0]\n",
    "b2 = popt2[1]\n",
    "\n",
    "# нахожу точку пересечения прямых\n",
    "P  = (b2-b1)/(k1-k2)\n",
    "print(\"Pэ = \", P.round(1))\n",
    "\n",
    "plt.figure(figsize= (7,7)) \n",
    "plt.errorbar(x,y,yerr = yErr, fmt='.', label='Экспериментальные точки') \n",
    "plt.plot(xlist1, myFunction(xlist1, *popt1))\n",
    "plt.plot(xlist2, myFunction(xlist2, *popt2))\n",
    "plt.xlabel(\"Давление (Тор).\")\n",
    "plt.ylabel(\"Сила тока. (pA)\")\n",
    "plt.grid()\n",
    "plt.legend();"
   ]
  },
  {
   "cell_type": "markdown",
   "metadata": {},
   "source": [
    "Находим точку пересечения прямых, приближающих участок \"постоянного\" тока и участок линейного роста. Pэ $\\approx$ 573 Тор.\n",
    "Выражаю $\\rho$ из уравнения Менделеева - Клапейрона:\n",
    "\\begin{equation} \n",
    "\\rho = \\frac{MP}{RT}\n",
    "\\end{equation}\n",
    "Таким образом $\\rho$э $\\approx$ $8.9\\cdot10^{-4}$.\n",
    "Теперь рассчитываем длину пробега при атмосферном давлении:\n",
    "\n",
    "$R$ $\\approx$ 6.9 см.\n",
    "\n",
    "В рамках данной задачи связь энергии $\\alpha$-частицы с ее пробегом может быть вырожена формулой:\n",
    "\\begin{equation} \n",
    "R = 0.32\\cdot E^{3/2}\n",
    "\\end{equation}\n",
    "\n",
    "Оценим значение энергии $\\alpha$-частицы: E $\\approx$ 7.7 МэВ, табличное значение ~ 5 МэВ.\n"
   ]
  },
  {
   "cell_type": "markdown",
   "metadata": {},
   "source": [
    "## Вывод\n",
    "В ходе данной работы тремя различными способами была определена энергия $\\alpha$-частиц по величине их пробега в воздухе. Одним из методов было получено весьма точное значение.\n"
   ]
  }
 ],
 "metadata": {
  "celltoolbar": "Hide code",
  "hide_code_all_hidden": false,
  "kernelspec": {
   "display_name": "Python 3",
   "language": "python",
   "name": "python3"
  },
  "language_info": {
   "codemirror_mode": {
    "name": "ipython",
    "version": 3
   },
   "file_extension": ".py",
   "mimetype": "text/x-python",
   "name": "python",
   "nbconvert_exporter": "python",
   "pygments_lexer": "ipython3",
   "version": "3.5.2"
  }
 },
 "nbformat": 4,
 "nbformat_minor": 2
}
